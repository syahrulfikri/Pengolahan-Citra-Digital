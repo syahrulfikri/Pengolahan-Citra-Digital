{
 "cells": [
  {
   "cell_type": "markdown",
   "metadata": {},
   "source": [
    "**File : Interpolation.ipynb**"
   ]
  },
  {
   "cell_type": "markdown",
   "metadata": {},
   "source": [
    "**Authors : Syahrul Fikri**"
   ]
  },
  {
   "cell_type": "markdown",
   "metadata": {},
   "source": [
    "**NIM : 1207070121**"
   ]
  },
  {
   "cell_type": "markdown",
   "metadata": {},
   "source": [
    "**Kelas : Pengolahan Citra Digital-TKK**"
   ]
  },
  {
   "cell_type": "markdown",
   "metadata": {},
   "source": [
    "**Teknik Elektro Fakultas Sains dan Teknologi Universitas Islam Negeri Sunan Gunung Djati Bandung**"
   ]
  },
  {
   "cell_type": "code",
   "execution_count": 5,
   "metadata": {},
   "outputs": [
    {
     "data": {
      "image/png": "[encoded data removed]",
      "text/plain": [
       "<Figure size 640x480 with 1 Axes>"
      ]
     },
     "metadata": {},
     "output_type": "display_data"
    },
    {
     "data": {
      "text/plain": [
       "(<matplotlib.image.AxesImage at 0xe6725e0>, None)"
      ]
     },
     "execution_count": 5,
     "metadata": {},
     "output_type": "execute_result"
    }
   ],
   "source": [
    "import mahotas as mh \n",
    "import numpy as np\n",
    "from pylab import imshow, show\n",
    "\n",
    "regions = np.zeros((8,8), bool)\n",
    "regions[:6,:3] = 1 \n",
    "regions[6:,4:] = 1\n",
    "labeled, nr_objects = mh.label(regions)\n",
    "\n",
    "imshow(labeled, interpolation='nearest'), show()"
   ]
  },
  {
   "cell_type": "code",
   "execution_count": 6,
   "metadata": {},
   "outputs": [],
   "source": [
    "labeled,nr_objects = mh.label(regions, np.ones((3,3), bool))"
   ]
  },
  {
   "cell_type": "code",
   "execution_count": 7,
   "metadata": {},
   "outputs": [
    {
     "name": "stdout",
     "output_type": "stream",
     "text": [
      "Background size 38\n",
      "Size of first region: 18\n"
     ]
    }
   ],
   "source": [
    "sizes = mh.labeled.labeled_size(labeled) \n",
    "print('Background size', sizes[0]) \n",
    "print('Size of first region: {}'.format(sizes[1]))"
   ]
  },
  {
   "cell_type": "code",
   "execution_count": 8,
   "metadata": {},
   "outputs": [
    {
     "name": "stdout",
     "output_type": "stream",
     "text": [
      "Sum of first region: 8.32528126161073\n"
     ]
    }
   ],
   "source": [
    "array = np.random.random_sample(regions.shape) \n",
    "sums = mh.labeled_sum(array, labeled) \n",
    "print('Sum of first region: {}'.format(sums[1]))"
   ]
  }
 ],
 "metadata": {
  "kernelspec": {
   "display_name": "Python 3.8.9 64-bit",
   "language": "python",
   "name": "python3"
  },
  "language_info": {
   "codemirror_mode": {
    "name": "ipython",
    "version": 3
   },
   "file_extension": ".py",
   "mimetype": "text/x-python",
   "name": "python",
   "nbconvert_exporter": "python",
   "pygments_lexer": "ipython3",
   "version": "3.8.9"
  },
  "orig_nbformat": 4,
  "vscode": {
   "interpreter": {
    "hash": "ff0d91300876931207232d01add3156fa7c8214350996c757a3c6cebc4b3b5d5"
   }
  }
 },
 "nbformat": 4,
 "nbformat_minor": 2
}
