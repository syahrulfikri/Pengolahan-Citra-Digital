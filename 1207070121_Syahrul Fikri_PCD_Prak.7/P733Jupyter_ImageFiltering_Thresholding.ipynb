{
 "cells": [
  {
   "cell_type": "code",
   "execution_count": 2,
   "metadata": {},
   "outputs": [
    {
     "ename": "error",
     "evalue": "OpenCV(4.7.0) D:\\a\\opencv-python\\opencv-python\\opencv\\modules\\imgproc\\src\\color.cpp:182: error: (-215:Assertion failed) !_src.empty() in function 'cv::cvtColor'\n",
     "output_type": "error",
     "traceback": [
      "\u001b[1;31m---------------------------------------------------------------------------\u001b[0m",
      "\u001b[1;31merror\u001b[0m                                     Traceback (most recent call last)",
      "Cell \u001b[1;32mIn[2], line 14\u001b[0m\n\u001b[0;32m     11\u001b[0m img \u001b[38;5;241m=\u001b[39m cv2\u001b[38;5;241m.\u001b[39mimread(\u001b[38;5;124m'\u001b[39m\u001b[38;5;124mcat.jpg\u001b[39m\u001b[38;5;124m'\u001b[39m)\n\u001b[0;32m     13\u001b[0m \u001b[38;5;66;03m#rgb\u001b[39;00m\n\u001b[1;32m---> 14\u001b[0m cat \u001b[38;5;241m=\u001b[39m \u001b[43mcv2\u001b[49m\u001b[38;5;241;43m.\u001b[39;49m\u001b[43mcvtColor\u001b[49m\u001b[43m(\u001b[49m\u001b[43mimg\u001b[49m\u001b[43m,\u001b[49m\u001b[43m \u001b[49m\u001b[43mcv2\u001b[49m\u001b[38;5;241;43m.\u001b[39;49m\u001b[43mCOLOR_BGR2RGB\u001b[49m\u001b[43m)\u001b[49m\n\u001b[0;32m     16\u001b[0m \u001b[38;5;66;03m# tampilkan gambar awal tanpa filter\u001b[39;00m\n\u001b[0;32m     17\u001b[0m cv2_imshow(img)\n",
      "\u001b[1;31merror\u001b[0m: OpenCV(4.7.0) D:\\a\\opencv-python\\opencv-python\\opencv\\modules\\imgproc\\src\\color.cpp:182: error: (-215:Assertion failed) !_src.empty() in function 'cv::cvtColor'\n"
     ]
    }
   ],
   "source": [
    "#LOW-PASS FILTERING\n",
    "# memanggil modul yang diperlukan\n",
    "import cv2\n",
    "import numpy as np\n",
    "from matplotlib import pyplot as plt\n",
    "#jika menggunakan google colab jgn lupa load code di bawah ini\n",
    "#from google.colab.patches import cv2_imshow\n",
    "\n",
    "\n",
    "#bgr\n",
    "img = cv2.imread('cat.jpg')\n",
    "\n",
    "#rgb\n",
    "cat = cv2.cvtColor(img, cv2.COLOR_BGR2RGB)\n",
    "\n",
    "# tampilkan gambar awal tanpa filter\n",
    "cv2_imshow(img)\n",
    "\n",
    "\n",
    "# membuat filter: matriks berukuran 5 x 5 \n",
    "kernel = np.ones((5,5),np.float32)/25\n",
    "print(kernel)\n",
    "\n",
    "# lakukan filtering\n",
    "kucing_filter = cv2.filter2D(img,-1,kernel)\n",
    "\n",
    "cv2_imshow(kucing_filter)\n",
    "\n",
    "# salt and pepper\n"
   ]
  },
  {
   "cell_type": "code",
   "execution_count": null,
   "metadata": {},
   "outputs": [],
   "source": [
    "# perbesar ukuran hasil plotting jika diperlukan\n",
    "plt.rcParams[\"figure.figsize\"] = (15,15)\n",
    "\n",
    "# plot pertama, gambar asli\n",
    "plt.subplot(121),plt.imshow(cat),plt.title('Original')\n",
    "plt.xticks([]), plt.yticks([])\n",
    "\n",
    "# kedua, hasil filter\n",
    "plt.subplot(122),plt.imshow(kucing_filter),\n",
    "plt.title('Averaging')\n",
    "plt.xticks([]), plt.yticks([])\n",
    "\n",
    "# Plot!\n",
    "plt.show()"
   ]
  },
  {
   "cell_type": "code",
   "execution_count": null,
   "metadata": {},
   "outputs": [],
   "source": [
    "kucing_blur = cv2.blur(img,(5,5))\n",
    "\n",
    "cv2_imshow(kucing_blur)"
   ]
  },
  {
   "cell_type": "code",
   "execution_count": null,
   "metadata": {},
   "outputs": [],
   "source": [
    "# ini adalah cara lain untuk membuat sebuah kernel, \n",
    "# yaitu dengan menggunakan np.matrix\n",
    "# kali ini, ukuran matriksnya 3 x 3\n",
    "kernel = np.matrix([\n",
    "          [1, 1, 1],\n",
    "          [1, 2, 1],\n",
    "          [1, 1, 1]         \n",
    "          ])/25\n",
    "print(kernel)\n",
    "\n",
    "# buat lagi filteringnya\n",
    "kucing_filter = cv2.filter2D(img,-1,kernel)\n",
    "\n",
    "# tampilkan\n",
    "cv2_imshow(kucing_filter)"
   ]
  },
  {
   "cell_type": "code",
   "execution_count": null,
   "metadata": {},
   "outputs": [],
   "source": [
    "# Highpass Filter\n",
    "\n",
    "# sebenarnya kita tidak perlu melakukan filtering lagi. Cukup sekali saja \n",
    "# di bagian awal, selama notebook ini tetap terhubung\n",
    "import cv2\n",
    "import numpy as np\n",
    "from matplotlib import pyplot as plt\n",
    "\n",
    "\n",
    "# memanggil citra sebagai grayscale (argument 0)\n",
    "img = cv2.imread('sudoku.jpg',0)\n",
    "\n",
    "# menerapkan algoritma high-pass filtering:\n",
    "# laplacian\n",
    "laplacian = cv2.Laplacian(img,cv2.CV_64F)\n",
    "\n",
    "# sobel dengan ukuran kernel 5\n",
    "sobelx = cv2.Sobel(img,cv2.CV_64F,1,0,ksize=5)\n",
    "sobely = cv2.Sobel(img,cv2.CV_64F,0,1,ksize=5)\n",
    "\n",
    "# Catatan:\n",
    "# CV_64F pada contoh di atas menunjukkan nilai bit dari citra \n",
    "# yang dihasilkan serta tipe datanya (F = Float)\n",
    "\n",
    "# perbesar ukuran hasil plotting \n",
    "plt.rcParams[\"figure.figsize\"] = (20,20)\n",
    "\n",
    "\n",
    "# menampilkan hasil filter\n",
    "plt.subplot(2,2,1),plt.imshow(img,cmap = 'gray')\n",
    "plt.title('Original'), plt.xticks([]), plt.yticks([])\n",
    "plt.subplot(2,2,2),plt.imshow(laplacian,cmap = 'gray')\n",
    "plt.title('Laplacian'), plt.xticks([]), plt.yticks([])\n",
    "plt.subplot(2,2,3),plt.imshow(sobelx,cmap = 'gray')\n",
    "plt.title('Sobel X'), plt.xticks([]), plt.yticks([])\n",
    "plt.subplot(2,2,4),plt.imshow(sobely,cmap = 'gray')\n",
    "plt.title('Sobel Y'), plt.xticks([]), plt.yticks([])\n",
    "plt.show()"
   ]
  },
  {
   "cell_type": "code",
   "execution_count": null,
   "metadata": {},
   "outputs": [],
   "source": [
    "# memanggil citra sebagai grayscale (argument 0)\n",
    "img = cv2.imread('baymax.jpg',0)\n",
    "\n",
    "# memanggil fungsi Canny Edges dengan argument (citra, nilai_min, nilai_max)\n",
    "edges = cv2.Canny(img,100,200)\n",
    "\n",
    "plt.subplot(121),plt.imshow(img,cmap = 'gray')\n",
    "plt.title('Original Image'), plt.xticks([]), plt.yticks([])\n",
    "plt.subplot(122),plt.imshow(edges,cmap = 'gray')\n",
    "plt.title('Edge Image'), plt.xticks([]), plt.yticks([])\n",
    "\n",
    "plt.show()"
   ]
  },
  {
   "cell_type": "code",
   "execution_count": null,
   "metadata": {},
   "outputs": [],
   "source": [
    "#IMAGE THRESHOLDING\n",
    "# membaca gambar baymax \n",
    "img = cv2.imread('baymax.jpg',0)\n",
    "\n",
    "# Hitungan threshold. \n",
    "# Perhatikan nilai ambang batas bawah dan atas dari tiap fungsi \n",
    "# yang diberikan\n",
    "ret,thresh1 = cv2.threshold(img,127,255,cv2.THRESH_BINARY)\n",
    "ret,thresh2 = cv2.threshold(img,127,255,cv2.THRESH_BINARY_INV)\n",
    "ret,thresh3 = cv2.threshold(img,127,255,cv2.THRESH_TRUNC)\n",
    "ret,thresh4 = cv2.threshold(img,127,255,cv2.THRESH_TOZERO)\n",
    "ret,thresh5 = cv2.threshold(img,127,255,cv2.THRESH_TOZERO_INV)\n",
    "\n",
    "# menampilkan hasil\n",
    "titles = ['Gambar asli','BINARY','BINARY_INV','TRUNC','TOZERO','TOZERO_INV']\n",
    "images = [img, thresh1, thresh2, thresh3, thresh4, thresh5]\n",
    "\n",
    "# menampilkan beberapa gambar sekaligus\n",
    "for i in range(6):\n",
    "    # 3 baris, 2 kolom\n",
    "    plt.subplot(3,2,i+1),plt.imshow(images[i],'gray')\n",
    "    plt.title(titles[i])\n",
    "    plt.xticks([]),plt.yticks([])\n",
    "plt.show()"
   ]
  },
  {
   "cell_type": "code",
   "execution_count": null,
   "metadata": {},
   "outputs": [],
   "source": [
    "# masih menggunakan variabel img yang sama\n",
    "#img = cv2.imread('images/baymax.jpg',0)\n",
    "\n",
    "# digunakan median blur untuk menghaluskan tepi objek pada citra\n",
    "# ini diperlukan agar thresholding memberikan hasil lebih baik\n",
    "img = cv2.medianBlur(img,5)\n",
    "\n",
    "# Lakukan Thresholding\n",
    "# Binary Threshold\n",
    "ret,th1 = cv2.threshold(img,127,255,cv2.THRESH_BINARY)\n",
    "\n",
    "# Adaptive Threshold dengan Mean\n",
    "th2 = cv2.adaptiveThreshold(img,255,cv2.ADAPTIVE_THRESH_MEAN_C,\\\n",
    "            cv2.THRESH_BINARY,11,2)\n",
    "\n",
    "# Adaptive Threshold dengan Gaussian\n",
    "th3 = cv2.adaptiveThreshold(img,255,cv2.ADAPTIVE_THRESH_GAUSSIAN_C,\\\n",
    "            cv2.THRESH_BINARY,11,2)\n",
    "\n",
    "\n",
    "# Plotting\n",
    "titles = ['Original Image', 'Global Thresholding (v = 127)',\n",
    "            'Adaptive Mean Thresholding', 'Adaptive Gaussian Thresholding']\n",
    "images = [img, th1, th2, th3]\n",
    "\n",
    "# menampilkan hasil\n",
    "for i in range(4):\n",
    "    plt.subplot(2,2,i+1)\n",
    "    plt.imshow(images[i],'gray')\n",
    "    plt.title(titles[i])\n",
    "    plt.xticks([]),plt.yticks([])\n",
    "plt.show()"
   ]
  }
 ],
 "metadata": {
  "kernelspec": {
   "display_name": "Python 3.8.9 64-bit",
   "language": "python",
   "name": "python3"
  },
  "language_info": {
   "codemirror_mode": {
    "name": "ipython",
    "version": 3
   },
   "file_extension": ".py",
   "mimetype": "text/x-python",
   "name": "python",
   "nbconvert_exporter": "python",
   "pygments_lexer": "ipython3",
   "version": "3.8.9"
  },
  "orig_nbformat": 4,
  "vscode": {
   "interpreter": {
    "hash": "ff0d91300876931207232d01add3156fa7c8214350996c757a3c6cebc4b3b5d5"
   }
  }
 },
 "nbformat": 4,
 "nbformat_minor": 2
}
